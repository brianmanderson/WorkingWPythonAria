{
 "cells": [
  {
   "cell_type": "code",
   "execution_count": 1,
   "id": "dfd6dc9b",
   "metadata": {},
   "outputs": [],
   "source": [
    "import pyesapi\n",
    "import atexit\n",
    "import SimpleITK as sitk\n",
    "import os\n",
    "import numpy as np"
   ]
  },
  {
   "cell_type": "code",
   "execution_count": 2,
   "id": "ee2d5e88",
   "metadata": {},
   "outputs": [],
   "source": [
    "def get_direction(varian_image):\n",
    "    x_direction = [varian_image.get_XDirection()[i] for i in range(3)]\n",
    "    y_direction = [varian_image.get_YDirection()[i] for i in range(3)]\n",
    "    z_direction = [varian_image.get_ZDirection()[i] for i in range(3)]\n",
    "    direction = x_direction + y_direction + z_direction\n",
    "    return tuple(direction)\n",
    "\n",
    "def get_spacing(varian_image):\n",
    "    return (varian_image.get_XRes(), varian_image.get_YRes(), varian_image.get_ZRes())\n",
    "\n",
    "def get_origin(potential_image):\n",
    "    return tuple([potential_image.get_Origin()[i] for i in range(3)])\n",
    "def create_sitk_Image(varian_image):\n",
    "    intercept = varian_image.VoxelToDisplayValue(0)\n",
    "    image_array = varian_image.np_array_like().transpose()\n",
    "    image_handle = sitk.GetImageFromArray(image_array + intercept)\n",
    "    image_handle.SetSpacing(get_spacing(varian_image))\n",
    "    image_handle.SetDirection(get_direction(varian_image))\n",
    "    image_handle.SetOrigin(get_origin(varian_image))\n",
    "    return image_handle\n",
    "def create_sitk_Mask(varian_mask, varian_image):\n",
    "    image_handle = sitk.GetImageFromArray(varian_mask.np_mask_like(varian_image).transpose())\n",
    "    image_handle.SetSpacing(get_spacing(varian_image))\n",
    "    image_handle.SetDirection(get_direction(varian_image))\n",
    "    image_handle.SetOrigin(get_origin(varian_image))\n",
    "    return image_handle"
   ]
  },
  {
   "cell_type": "code",
   "execution_count": 3,
   "id": "5837498b",
   "metadata": {},
   "outputs": [
    {
     "data": {
      "text/plain": [
       "<bound method 'Dispose'>"
      ]
     },
     "execution_count": 3,
     "metadata": {},
     "output_type": "execute_result"
    }
   ],
   "source": [
    "app = pyesapi.CustomScriptExecutable.CreateApplication('python_demo')\n",
    "atexit.register(app.Dispose)"
   ]
  },
  {
   "cell_type": "code",
   "execution_count": 4,
   "id": "738ca501",
   "metadata": {},
   "outputs": [],
   "source": [
    "fid = open(os.path.join('.', 'PatientID'))\n",
    "line = fid.readline()\n",
    "line = fid.readline() # Go to the second patient\n",
    "fid.close()\n",
    "MRN = line.strip('\\n')"
   ]
  },
  {
   "cell_type": "code",
   "execution_count": 5,
   "id": "74fd3c55",
   "metadata": {},
   "outputs": [],
   "source": [
    "patient = app.OpenPatientById(MRN)"
   ]
  },
  {
   "cell_type": "code",
   "execution_count": 6,
   "id": "e1b0cc86",
   "metadata": {},
   "outputs": [],
   "source": [
    "courses = [c.Id for c in patient.Courses]"
   ]
  },
  {
   "cell_type": "code",
   "execution_count": 7,
   "id": "c5e8e799",
   "metadata": {},
   "outputs": [
    {
     "data": {
      "text/plain": [
       "['0 QA', '1 Abdomen', 'DONOTUSE']"
      ]
     },
     "execution_count": 7,
     "metadata": {},
     "output_type": "execute_result"
    }
   ],
   "source": [
    "courses"
   ]
  },
  {
   "cell_type": "code",
   "execution_count": 8,
   "id": "a0c42330",
   "metadata": {},
   "outputs": [],
   "source": [
    "course = patient.CoursesLot(courses[-1])"
   ]
  },
  {
   "cell_type": "code",
   "execution_count": 9,
   "id": "5a4ed4a8",
   "metadata": {},
   "outputs": [
    {
     "data": {
      "text/plain": [
       "'DONOTUSE'"
      ]
     },
     "execution_count": 9,
     "metadata": {},
     "output_type": "execute_result"
    }
   ],
   "source": [
    "course.Id"
   ]
  },
  {
   "cell_type": "code",
   "execution_count": 10,
   "id": "166932f9",
   "metadata": {},
   "outputs": [],
   "source": [
    "brachy_plans = [p for p in course.BrachyPlanSetups]"
   ]
  },
  {
   "cell_type": "code",
   "execution_count": 11,
   "id": "10fd5b93",
   "metadata": {},
   "outputs": [
    {
     "data": {
      "text/plain": [
       "'DontUse1'"
      ]
     },
     "execution_count": 11,
     "metadata": {},
     "output_type": "execute_result"
    }
   ],
   "source": [
    "brachy_plans[0].Id"
   ]
  },
  {
   "cell_type": "code",
   "execution_count": 12,
   "id": "2fd204f8",
   "metadata": {},
   "outputs": [],
   "source": [
    "plan = brachy_plans[0]"
   ]
  },
  {
   "cell_type": "code",
   "execution_count": 14,
   "id": "c078aa1b",
   "metadata": {},
   "outputs": [
    {
     "data": {
      "text/plain": [
       "'DontUse1'"
      ]
     },
     "execution_count": 14,
     "metadata": {},
     "output_type": "execute_result"
    }
   ],
   "source": [
    "plan.Id"
   ]
  },
  {
   "cell_type": "code",
   "execution_count": 16,
   "id": "5c62b00a",
   "metadata": {},
   "outputs": [],
   "source": [
    "catheters = [i for i in plan.Catheters]"
   ]
  },
  {
   "cell_type": "code",
   "execution_count": 17,
   "id": "47482887",
   "metadata": {},
   "outputs": [],
   "source": [
    "catheter = catheters[0]"
   ]
  },
  {
   "cell_type": "code",
   "execution_count": 23,
   "id": "941d907f",
   "metadata": {},
   "outputs": [],
   "source": [
    "def is_a_ring(catheter):\n",
    "    if catheter.ApplicatorLength != 1320.0:\n",
    "        return False\n",
    "    if catheter.DeadSpaceLength.is_integer():\n",
    "        return False\n",
    "    \"\"\"\n",
    "    Check to see if the z distance is greater than 1 cm\n",
    "    \"\"\"\n",
    "    z_distances = [i.z for i in catheter.Shape] # See what the distances are between the points\n",
    "    max_z_distance = np.max(z_distances) - np.min(z_distances) # If the max z distance is 5 mm, this is probably a ring\n",
    "    if max_z_distance > 10:\n",
    "        return False\n",
    "    \"\"\"\n",
    "    Now check to see if we have a set of dwell times, followed by no dwell times, and then more\n",
    "    \"\"\"\n",
    "    return is_ring_by_angle(catheter)"
   ]
  },
  {
   "cell_type": "code",
   "execution_count": 64,
   "id": "e34253e0",
   "metadata": {},
   "outputs": [],
   "source": [
    "def is_ring_by_angle(catheter):\n",
    "    points = np.asarray([(i.x, i.y, i.z) for i in catheter.Shape])\n",
    "    angle_total = 0\n",
    "    vectors = []\n",
    "    for i in range(points.shape[0]-1):\n",
    "        point_1 = points[i]\n",
    "        point_2 = points[i+1]\n",
    "        vector_1 = point_2 - point_1\n",
    "        vectors.append(vector_1)\n",
    "    for i in range(len(vectors) - 1):\n",
    "        vector_1 = vectors[i]\n",
    "        unit_1 = vector_1 / np.linalg.norm(vector_1)\n",
    "\n",
    "        vector_2 = vectors[i+1]\n",
    "        unit_2 = vector_2 / np.linalg.norm(vector_2)\n",
    "        dot_prodct = np.dot(unit_1, unit_2)\n",
    "        angle = np.arccos(dot_prodct)\n",
    "        degree_angle = np.rad2deg(angle)\n",
    "        angle_total += degree_angle\n",
    "    if angle_total > 180:\n",
    "        return True\n",
    "    return False"
   ]
  },
  {
   "cell_type": "code",
   "execution_count": 24,
   "id": "5fbcd0e0",
   "metadata": {},
   "outputs": [],
   "source": [
    "def is_ring_from_positions(catheter):\n",
    "    \"\"\"\n",
    "    This will look through a series of positions to see if it is a ring.\n",
    "    Largely by checking to see if we have a gap between a series of active positions\n",
    "    We should have at least 3 positions on the left and right, with at least 2 gap at the bottom\n",
    "    \"\"\"\n",
    "    positions = [i for i in catheter.SourcePositions]\n",
    "    active_on_left = 0\n",
    "    inactive = 0\n",
    "    active_on_right = 0\n",
    "    reached_one_active = False\n",
    "    passed_inactive = False\n",
    "    for position in positions[1:]: # Skip the first one, locked to be low\n",
    "        if position.DwellTime > 1:\n",
    "            reached_one_active = True\n",
    "            if not passed_inactive:\n",
    "                active_on_left += 1\n",
    "            else:\n",
    "                active_on_right += 1\n",
    "        elif reached_one_active:\n",
    "            inactive += 1\n",
    "            passed_inactive = True\n",
    "    if active_on_right >= 3 and active_on_left >= 3 and inactive >= 2:\n",
    "        return True\n",
    "    else:\n",
    "        return False"
   ]
  },
  {
   "cell_type": "code",
   "execution_count": null,
   "id": "fec51130",
   "metadata": {},
   "outputs": [],
   "source": [
    "# Check physical length of 9 cm, and Z from there"
   ]
  },
  {
   "cell_type": "code",
   "execution_count": 65,
   "id": "c045c4d1",
   "metadata": {},
   "outputs": [
    {
     "data": {
      "text/plain": [
       "True"
      ]
     },
     "execution_count": 65,
     "metadata": {},
     "output_type": "execute_result"
    }
   ],
   "source": [
    "is_ring_by_angle(catheter)"
   ]
  },
  {
   "cell_type": "code",
   "execution_count": 63,
   "id": "8501fcfa",
   "metadata": {},
   "outputs": [],
   "source": [
    "np.save('./points.npy',np.asarray(points))"
   ]
  },
  {
   "cell_type": "code",
   "execution_count": 45,
   "id": "0bc9ab17",
   "metadata": {},
   "outputs": [
    {
     "ename": "AttributeError",
     "evalue": "'SourcePosition' object has no attribute 'X'",
     "output_type": "error",
     "traceback": [
      "\u001b[1;31m---------------------------------------------------------------------------\u001b[0m",
      "\u001b[1;31mAttributeError\u001b[0m                            Traceback (most recent call last)",
      "\u001b[1;32mC:\\Users\\B5ANDE~1\\AppData\\Local\\Temp/ipykernel_12932/3680411494.py\u001b[0m in \u001b[0;36m<module>\u001b[1;34m\u001b[0m\n\u001b[1;32m----> 1\u001b[1;33m \u001b[0mpositions\u001b[0m \u001b[1;33m=\u001b[0m \u001b[1;33m[\u001b[0m\u001b[1;33m(\u001b[0m\u001b[0mi\u001b[0m\u001b[1;33m.\u001b[0m\u001b[0mX\u001b[0m\u001b[1;33m,\u001b[0m \u001b[0mi\u001b[0m\u001b[1;33m.\u001b[0m\u001b[0mY\u001b[0m\u001b[1;33m,\u001b[0m \u001b[0mi\u001b[0m\u001b[1;33m.\u001b[0m\u001b[0mZ\u001b[0m\u001b[1;33m)\u001b[0m \u001b[1;32mfor\u001b[0m \u001b[0mi\u001b[0m \u001b[1;32min\u001b[0m \u001b[0mcatheter\u001b[0m\u001b[1;33m.\u001b[0m\u001b[0mSourcePositions\u001b[0m\u001b[1;33m]\u001b[0m\u001b[1;33m\u001b[0m\u001b[1;33m\u001b[0m\u001b[0m\n\u001b[0m",
      "\u001b[1;32mC:\\Users\\B5ANDE~1\\AppData\\Local\\Temp/ipykernel_12932/3680411494.py\u001b[0m in \u001b[0;36m<listcomp>\u001b[1;34m(.0)\u001b[0m\n\u001b[1;32m----> 1\u001b[1;33m \u001b[0mpositions\u001b[0m \u001b[1;33m=\u001b[0m \u001b[1;33m[\u001b[0m\u001b[1;33m(\u001b[0m\u001b[0mi\u001b[0m\u001b[1;33m.\u001b[0m\u001b[0mX\u001b[0m\u001b[1;33m,\u001b[0m \u001b[0mi\u001b[0m\u001b[1;33m.\u001b[0m\u001b[0mY\u001b[0m\u001b[1;33m,\u001b[0m \u001b[0mi\u001b[0m\u001b[1;33m.\u001b[0m\u001b[0mZ\u001b[0m\u001b[1;33m)\u001b[0m \u001b[1;32mfor\u001b[0m \u001b[0mi\u001b[0m \u001b[1;32min\u001b[0m \u001b[0mcatheter\u001b[0m\u001b[1;33m.\u001b[0m\u001b[0mSourcePositions\u001b[0m\u001b[1;33m]\u001b[0m\u001b[1;33m\u001b[0m\u001b[1;33m\u001b[0m\u001b[0m\n\u001b[0m",
      "\u001b[1;31mAttributeError\u001b[0m: 'SourcePosition' object has no attribute 'X'"
     ]
    }
   ],
   "source": [
    "positions = [(i.X, i.Y, i.Z) for i in catheter.SourcePositions]"
   ]
  },
  {
   "cell_type": "code",
   "execution_count": null,
   "id": "47c5ccea",
   "metadata": {},
   "outputs": [],
   "source": [
    "[i for i in plan.SeedCollections]"
   ]
  },
  {
   "cell_type": "code",
   "execution_count": null,
   "id": "fa811e30",
   "metadata": {},
   "outputs": [],
   "source": [
    "[i for i in plan.SolidApplicators]"
   ]
  },
  {
   "cell_type": "code",
   "execution_count": null,
   "id": "f0452db0",
   "metadata": {},
   "outputs": [],
   "source": [
    "print(f'StructureID,TYPE,VOLUME')\n",
    "for structure in plan.StructureSet.Structures:\n",
    "    print(f'{structure.Id},{structure.DicomType},{structure.Volume:.2f}')"
   ]
  },
  {
   "cell_type": "code",
   "execution_count": null,
   "id": "85ad7740",
   "metadata": {},
   "outputs": [],
   "source": [
    "dir(plan)"
   ]
  },
  {
   "cell_type": "code",
   "execution_count": null,
   "id": "7d9e1570",
   "metadata": {},
   "outputs": [],
   "source": [
    "[i.Id for i in plan.StructureSet.Structures]"
   ]
  },
  {
   "cell_type": "code",
   "execution_count": 38,
   "id": "adf1d382",
   "metadata": {},
   "outputs": [],
   "source": [
    "from pyesapi import System"
   ]
  },
  {
   "cell_type": "code",
   "execution_count": 41,
   "id": "f38e98e1",
   "metadata": {},
   "outputs": [
    {
     "data": {
      "text/plain": [
       "1"
      ]
     },
     "execution_count": 41,
     "metadata": {},
     "output_type": "execute_result"
    }
   ],
   "source": [
    "System.Windows.MessageBox.Show(\"Hello\")"
   ]
  },
  {
   "cell_type": "code",
   "execution_count": null,
   "id": "79e10ed4",
   "metadata": {},
   "outputs": [],
   "source": []
  }
 ],
 "metadata": {
  "kernelspec": {
   "display_name": "Python 3 (ipykernel)",
   "language": "python",
   "name": "python3"
  },
  "language_info": {
   "codemirror_mode": {
    "name": "ipython",
    "version": 3
   },
   "file_extension": ".py",
   "mimetype": "text/x-python",
   "name": "python",
   "nbconvert_exporter": "python",
   "pygments_lexer": "ipython3",
   "version": "3.8.8"
  }
 },
 "nbformat": 4,
 "nbformat_minor": 5
}
