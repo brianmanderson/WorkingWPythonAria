{
 "cells": [
  {
   "cell_type": "code",
   "execution_count": null,
   "id": "aebedb2e",
   "metadata": {},
   "outputs": [],
   "source": [
    "#!pip install git+https://github.com/brianmanderson/PyESAPI"
   ]
  },
  {
   "cell_type": "code",
   "execution_count": 3,
   "id": "104a597e",
   "metadata": {},
   "outputs": [],
   "source": [
    "import pyesapi\n",
    "import atexit\n",
    "import SimpleITK as sitk\n",
    "import os\n",
    "import numpy as np"
   ]
  },
  {
   "cell_type": "code",
   "execution_count": 4,
   "id": "55f85fca",
   "metadata": {},
   "outputs": [],
   "source": [
    "def get_direction(varian_image):\n",
    "    x_direction = [varian_image.get_XDirection()[i] for i in range(3)]\n",
    "    y_direction = [varian_image.get_YDirection()[i] for i in range(3)]\n",
    "    z_direction = [varian_image.get_ZDirection()[i] for i in range(3)]\n",
    "    direction = x_direction + y_direction + z_direction\n",
    "    return tuple(direction)\n",
    "\n",
    "def get_spacing(varian_image):\n",
    "    return (varian_image.get_XRes(), varian_image.get_YRes(), varian_image.get_ZRes())\n",
    "\n",
    "def get_origin(potential_image):\n",
    "    return tuple([potential_image.get_Origin()[i] for i in range(3)])"
   ]
  },
  {
   "cell_type": "code",
   "execution_count": 20,
   "id": "0540bdd2",
   "metadata": {},
   "outputs": [],
   "source": [
    "def create_sitk_Image(varian_image):\n",
    "    intercept = varian_image.VoxelToDisplayValue(0)\n",
    "    image_array = varian_image.np_array_like().transpose()\n",
    "    image_handle = sitk.GetImageFromArray(image_array + intercept)\n",
    "    image_handle.SetSpacing(get_spacing(varian_image))\n",
    "    image_handle.SetDirection(get_direction(varian_image))\n",
    "    image_handle.SetOrigin(get_origin(varian_image))\n",
    "    return image_handle"
   ]
  },
  {
   "cell_type": "code",
   "execution_count": 6,
   "id": "9c41e27c",
   "metadata": {},
   "outputs": [],
   "source": [
    "def create_sitk_Mask(varian_mask, varian_image):\n",
    "    image_handle = sitk.GetImageFromArray(varian_mask.np_mask_like(varian_image).transpose())\n",
    "    image_handle.SetSpacing(get_spacing(varian_image))\n",
    "    image_handle.SetDirection(get_direction(varian_image))\n",
    "    image_handle.SetOrigin(get_origin(varian_image))\n",
    "    return image_handle"
   ]
  },
  {
   "cell_type": "code",
   "execution_count": 7,
   "id": "f708af4f",
   "metadata": {},
   "outputs": [
    {
     "data": {
      "text/plain": [
       "<bound method 'Dispose'>"
      ]
     },
     "execution_count": 7,
     "metadata": {},
     "output_type": "execute_result"
    }
   ],
   "source": [
    "app = pyesapi.CustomScriptExecutable.CreateApplication('python_demo')\n",
    "atexit.register(app.Dispose)"
   ]
  },
  {
   "cell_type": "code",
   "execution_count": 8,
   "id": "9c8a1633",
   "metadata": {},
   "outputs": [],
   "source": [
    "#for pat_sum in app.PatientSummaries:\n",
    "#    print(pat_sum.Id, pat_sum.LastName, pat_sum.FirstName)"
   ]
  },
  {
   "cell_type": "code",
   "execution_count": 9,
   "id": "515ad8dc",
   "metadata": {},
   "outputs": [],
   "source": [
    "fid = open(os.path.join('.', 'PatientID'))\n",
    "line = fid.readline()\n",
    "line = fid.readline() # Go to the second patient\n",
    "fid.close()\n",
    "MRN = line.strip('\\n')"
   ]
  },
  {
   "cell_type": "code",
   "execution_count": 10,
   "id": "b540eab9",
   "metadata": {},
   "outputs": [],
   "source": [
    "patient = app.OpenPatientById(MRN)"
   ]
  },
  {
   "cell_type": "code",
   "execution_count": 11,
   "id": "8d0e785c",
   "metadata": {},
   "outputs": [],
   "source": [
    "courses = [c.Id for c in patient.Courses]"
   ]
  },
  {
   "cell_type": "code",
   "execution_count": 12,
   "id": "f3e596f8",
   "metadata": {},
   "outputs": [],
   "source": [
    "plan = patient.CoursesLot(courses[1]).PlanSetupsLot(0)"
   ]
  },
  {
   "cell_type": "code",
   "execution_count": 13,
   "id": "721af3d2",
   "metadata": {},
   "outputs": [
    {
     "data": {
      "text/plain": [
       "VMS.TPS.Common.Model.API.PlanningItemDose"
      ]
     },
     "execution_count": 13,
     "metadata": {},
     "output_type": "execute_result"
    }
   ],
   "source": [
    "type(plan.Dose)"
   ]
  },
  {
   "cell_type": "code",
   "execution_count": 8,
   "id": "cfbf939a",
   "metadata": {},
   "outputs": [
    {
     "name": "stdout",
     "output_type": "stream",
     "text": [
      "Plan Id: 1 Abdomen\n",
      "Dose Per Fx: 300.0 cGy\n",
      "Number of Fx: 10\n"
     ]
    }
   ],
   "source": [
    "print(f'Plan Id: {plan.Id}')\n",
    "print(f'Dose Per Fx: {plan.PrescribedDosePerFraction}')\n",
    "print(f'Number of Fx: {plan.NumberOfFractions}')"
   ]
  },
  {
   "cell_type": "code",
   "execution_count": 56,
   "id": "6ac6686f",
   "metadata": {
    "scrolled": true
   },
   "outputs": [
    {
     "data": {
      "text/plain": [
       "False"
      ]
     },
     "execution_count": 56,
     "metadata": {},
     "output_type": "execute_result"
    }
   ],
   "source": [
    "np.min(beams[0].Dose.np_array_like() == plan.Dose.np_array_like())"
   ]
  },
  {
   "cell_type": "code",
   "execution_count": 29,
   "id": "4159837c",
   "metadata": {},
   "outputs": [
    {
     "data": {
      "text/plain": [
       "2.5"
      ]
     },
     "execution_count": 29,
     "metadata": {},
     "output_type": "execute_result"
    }
   ],
   "source": [
    "beams[0].Dose.get_ZRes()"
   ]
  },
  {
   "cell_type": "code",
   "execution_count": null,
   "id": "be853c70",
   "metadata": {},
   "outputs": [],
   "source": [
    "print(f'StructureID,TYPE,VOLUME')\n",
    "for structure in plan.StructureSet.Structures:\n",
    "    print(f'{structure.Id},{structure.DicomType},{structure.Volume:.2f}')"
   ]
  },
  {
   "cell_type": "code",
   "execution_count": 21,
   "id": "02df1814",
   "metadata": {},
   "outputs": [],
   "source": [
    "image_handle = create_sitk_Image(plan.StructureSet.Image)"
   ]
  },
  {
   "cell_type": "code",
   "execution_count": 19,
   "id": "2eb348db",
   "metadata": {},
   "outputs": [
    {
     "data": {
      "text/plain": [
       "-1000.0"
      ]
     },
     "execution_count": 19,
     "metadata": {},
     "output_type": "execute_result"
    }
   ],
   "source": [
    "plan.StructureSet.Image.VoxelToDisplayValue(0)"
   ]
  },
  {
   "cell_type": "code",
   "execution_count": 22,
   "id": "763c5d3e",
   "metadata": {},
   "outputs": [],
   "source": [
    "sitk.WriteImage(image_handle, r'K:\\Image.nii.gz')"
   ]
  },
  {
   "cell_type": "code",
   "execution_count": 44,
   "id": "e8610d3e",
   "metadata": {},
   "outputs": [],
   "source": [
    "mask_handle = create_sitk_Mask(plan.StructureSet.StructuresLot('Liver'), plan.StructureSet.Image)"
   ]
  },
  {
   "cell_type": "code",
   "execution_count": 62,
   "id": "e4a837ae",
   "metadata": {},
   "outputs": [
    {
     "data": {
      "text/plain": [
       "['ApprovalHistory',\n",
       " 'CalculateDectProtonStoppingPowers',\n",
       " 'ClearSerializationHistory',\n",
       " 'Comment',\n",
       " 'ContrastBolusAgentIngredientName',\n",
       " 'CreateNewStructureSet',\n",
       " 'CreationDateTime',\n",
       " 'DicomToUser',\n",
       " 'DisplayUnit',\n",
       " 'EndSerialization',\n",
       " 'Equals',\n",
       " 'FOR',\n",
       " 'Finalize',\n",
       " 'GetHashCode',\n",
       " 'GetImageProfile',\n",
       " 'GetProtonStoppingPowerCurve',\n",
       " 'GetSchema',\n",
       " 'GetType',\n",
       " 'GetVoxels',\n",
       " 'HasUserOrigin',\n",
       " 'HistoryDateTime',\n",
       " 'HistoryUserDisplayName',\n",
       " 'HistoryUserName',\n",
       " 'Id',\n",
       " 'ImageType',\n",
       " 'ImagingOrientation',\n",
       " 'IsProcessed',\n",
       " 'Level',\n",
       " 'MemberwiseClone',\n",
       " 'Name',\n",
       " 'Origin',\n",
       " 'Overloads',\n",
       " 'ReadXml',\n",
       " 'ReferenceEquals',\n",
       " 'Series',\n",
       " 'StartSerialization',\n",
       " 'ToString',\n",
       " 'UID',\n",
       " 'UserOrigin',\n",
       " 'UserOriginComments',\n",
       " 'UserToDicom',\n",
       " 'VoxelToDisplayValue',\n",
       " 'Window',\n",
       " 'WriteXml',\n",
       " 'XDirection',\n",
       " 'XRes',\n",
       " 'XSize',\n",
       " 'YDirection',\n",
       " 'YRes',\n",
       " 'YSize',\n",
       " 'ZDirection',\n",
       " 'ZRes',\n",
       " 'ZSize',\n",
       " '__call__',\n",
       " '__class__',\n",
       " '__delattr__',\n",
       " '__delitem__',\n",
       " '__dir__',\n",
       " '__doc__',\n",
       " '__eq__',\n",
       " '__format__',\n",
       " '__ge__',\n",
       " '__getattribute__',\n",
       " '__getitem__',\n",
       " '__gt__',\n",
       " '__hash__',\n",
       " '__init__',\n",
       " '__init_subclass__',\n",
       " '__iter__',\n",
       " '__le__',\n",
       " '__lt__',\n",
       " '__module__',\n",
       " '__ne__',\n",
       " '__new__',\n",
       " '__overloads__',\n",
       " '__reduce__',\n",
       " '__reduce_ex__',\n",
       " '__repr__',\n",
       " '__setattr__',\n",
       " '__setitem__',\n",
       " '__sizeof__',\n",
       " '__str__',\n",
       " '__subclasshook__',\n",
       " 'get_ApprovalHistory',\n",
       " 'get_Comment',\n",
       " 'get_ContrastBolusAgentIngredientName',\n",
       " 'get_CreationDateTime',\n",
       " 'get_DisplayUnit',\n",
       " 'get_FOR',\n",
       " 'get_HasUserOrigin',\n",
       " 'get_HistoryDateTime',\n",
       " 'get_HistoryUserDisplayName',\n",
       " 'get_HistoryUserName',\n",
       " 'get_Id',\n",
       " 'get_ImageType',\n",
       " 'get_ImagingOrientation',\n",
       " 'get_IsProcessed',\n",
       " 'get_Level',\n",
       " 'get_Name',\n",
       " 'get_Origin',\n",
       " 'get_Series',\n",
       " 'get_UID',\n",
       " 'get_UserOrigin',\n",
       " 'get_UserOriginComments',\n",
       " 'get_Window',\n",
       " 'get_XDirection',\n",
       " 'get_XRes',\n",
       " 'get_XSize',\n",
       " 'get_YDirection',\n",
       " 'get_YRes',\n",
       " 'get_YSize',\n",
       " 'get_ZDirection',\n",
       " 'get_ZRes',\n",
       " 'get_ZSize',\n",
       " 'np_array_like',\n",
       " 'np_structure_mask',\n",
       " 'np_voxel_locations',\n",
       " 'op_Equality',\n",
       " 'op_Inequality',\n",
       " 'set_Id',\n",
       " 'set_UserOrigin']"
      ]
     },
     "execution_count": 62,
     "metadata": {},
     "output_type": "execute_result"
    }
   ],
   "source": [
    "dir(plan.StructureSet.Image)"
   ]
  },
  {
   "cell_type": "code",
   "execution_count": 67,
   "id": "662565f5",
   "metadata": {},
   "outputs": [
    {
     "ename": "TypeError",
     "evalue": "No method matches given arguments for VoxelToDisplayValue: ()",
     "output_type": "error",
     "traceback": [
      "\u001b[1;31m---------------------------------------------------------------------------\u001b[0m",
      "\u001b[1;31mTypeError\u001b[0m                                 Traceback (most recent call last)",
      "\u001b[1;32mC:\\Users\\B5ANDE~1\\AppData\\Local\\Temp/ipykernel_6948/740260508.py\u001b[0m in \u001b[0;36m<module>\u001b[1;34m\u001b[0m\n\u001b[1;32m----> 1\u001b[1;33m \u001b[0mplan\u001b[0m\u001b[1;33m.\u001b[0m\u001b[0mStructureSet\u001b[0m\u001b[1;33m.\u001b[0m\u001b[0mImage\u001b[0m\u001b[1;33m.\u001b[0m\u001b[0mVoxelToDisplayValue\u001b[0m\u001b[1;33m(\u001b[0m\u001b[1;33m)\u001b[0m\u001b[1;33m\u001b[0m\u001b[1;33m\u001b[0m\u001b[0m\n\u001b[0m",
      "\u001b[1;31mTypeError\u001b[0m: No method matches given arguments for VoxelToDisplayValue: ()"
     ]
    }
   ],
   "source": [
    "plan.StructureSet.Image.VoxelToDisplayValue()"
   ]
  },
  {
   "cell_type": "code",
   "execution_count": null,
   "id": "e4ea2d90",
   "metadata": {},
   "outputs": [],
   "source": [
    "sitk.WriteImage(mask_handle, r'K:\\Mask.nii.gz')"
   ]
  },
  {
   "cell_type": "code",
   "execution_count": 45,
   "id": "16dd09db",
   "metadata": {},
   "outputs": [],
   "source": [
    "dose_handle = create_sitk_Image(plan.Dose)"
   ]
  },
  {
   "cell_type": "code",
   "execution_count": 46,
   "id": "4c28bf5d",
   "metadata": {},
   "outputs": [],
   "source": [
    "sitk.WriteImage(dose_handle, r'K:\\Dose.nii.gz')"
   ]
  },
  {
   "cell_type": "code",
   "execution_count": 60,
   "id": "8af6dfc7",
   "metadata": {},
   "outputs": [],
   "source": [
    "for i in range(len(beams)):\n",
    "    if beams[i].Dose is None:\n",
    "        continue\n",
    "    beam_handle = create_sitk_Image(beams[i].Dose)\n",
    "    sitk.WriteImage(dose_handle, r'K:\\{}.nii.gz'.format(beams[i].Id))"
   ]
  },
  {
   "cell_type": "code",
   "execution_count": null,
   "id": "25d01536",
   "metadata": {},
   "outputs": [],
   "source": [
    "plan.StructureSet.StructuresLot('Liver').Volume # cc"
   ]
  },
  {
   "cell_type": "code",
   "execution_count": null,
   "id": "c4d97c83",
   "metadata": {},
   "outputs": [],
   "source": []
  }
 ],
 "metadata": {
  "kernelspec": {
   "display_name": "Python 3 (ipykernel)",
   "language": "python",
   "name": "python3"
  },
  "language_info": {
   "codemirror_mode": {
    "name": "ipython",
    "version": 3
   },
   "file_extension": ".py",
   "mimetype": "text/x-python",
   "name": "python",
   "nbconvert_exporter": "python",
   "pygments_lexer": "ipython3",
   "version": "3.8.8"
  }
 },
 "nbformat": 4,
 "nbformat_minor": 5
}
