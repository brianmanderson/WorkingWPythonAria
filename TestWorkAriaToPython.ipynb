{
 "cells": [
  {
   "cell_type": "code",
   "execution_count": 1,
   "id": "aebedb2e",
   "metadata": {},
   "outputs": [],
   "source": [
    "#!pip install git+https://github.com/VarianAPIs/PyESAPI"
   ]
  },
  {
   "cell_type": "code",
   "execution_count": 2,
   "id": "104a597e",
   "metadata": {},
   "outputs": [],
   "source": [
    "import pyesapi\n",
    "import atexit\n",
    "import SimpleITK as sitk\n",
    "import os\n",
    "import numpy as np"
   ]
  },
  {
   "cell_type": "code",
   "execution_count": 3,
   "id": "f708af4f",
   "metadata": {},
   "outputs": [
    {
     "data": {
      "text/plain": [
       "<bound method 'Dispose'>"
      ]
     },
     "execution_count": 3,
     "metadata": {},
     "output_type": "execute_result"
    }
   ],
   "source": [
    "app = pyesapi.CustomScriptExecutable.CreateApplication('python_demo')\n",
    "atexit.register(app.Dispose)"
   ]
  },
  {
   "cell_type": "code",
   "execution_count": 4,
   "id": "9c8a1633",
   "metadata": {},
   "outputs": [],
   "source": [
    "#for pat_sum in app.PatientSummaries:\n",
    "#    print(pat_sum.Id, pat_sum.LastName, pat_sum.FirstName)"
   ]
  },
  {
   "cell_type": "code",
   "execution_count": 90,
   "id": "d0fb7e64",
   "metadata": {},
   "outputs": [],
   "source": [
    "fid = open(os.path.join('.', 'PatientID'))\n",
    "line = fid.readline()\n",
    "fid.close()\n",
    "MRN = line.strip('\\n')"
   ]
  },
  {
   "cell_type": "code",
   "execution_count": 5,
   "id": "b540eab9",
   "metadata": {},
   "outputs": [],
   "source": [
    "patient = app.OpenPatientById(MRN)"
   ]
  },
  {
   "cell_type": "code",
   "execution_count": 6,
   "id": "8d0e785c",
   "metadata": {},
   "outputs": [],
   "source": [
    "courses = [c.Id for c in patient.Courses]"
   ]
  },
  {
   "cell_type": "code",
   "execution_count": 7,
   "id": "cdff18e1",
   "metadata": {},
   "outputs": [
    {
     "data": {
      "text/plain": [
       "['0 QA', '1 Abdomen']"
      ]
     },
     "execution_count": 7,
     "metadata": {},
     "output_type": "execute_result"
    }
   ],
   "source": [
    "courses"
   ]
  },
  {
   "cell_type": "code",
   "execution_count": 8,
   "id": "f3e596f8",
   "metadata": {},
   "outputs": [],
   "source": [
    "plan = patient.CoursesLot(courses[1]).PlanSetupsLot(0)"
   ]
  },
  {
   "cell_type": "code",
   "execution_count": 9,
   "id": "cfbf939a",
   "metadata": {},
   "outputs": [
    {
     "name": "stdout",
     "output_type": "stream",
     "text": [
      "Plan Id: 1 Abdomen\n",
      "Dose Per Fx: 300.0 cGy\n",
      "Number of Fx: 10\n"
     ]
    }
   ],
   "source": [
    "print(f'Plan Id: {plan.Id}')\n",
    "print(f'Dose Per Fx: {plan.PrescribedDosePerFraction}')\n",
    "print(f'Number of Fx: {plan.NumberOfFractions}')"
   ]
  },
  {
   "cell_type": "code",
   "execution_count": 10,
   "id": "be853c70",
   "metadata": {},
   "outputs": [
    {
     "name": "stdout",
     "output_type": "stream",
     "text": [
      "StructureID,TYPE,VOLUME\n",
      "Stomach,ORGAN,174.43\n",
      "SpinalCanal,ORGAN,36.80\n",
      "Kidney_R,ORGAN,120.39\n",
      "Kidney_L,ORGAN,202.51\n",
      "Kidneys,ORGAN,322.90\n",
      "CTV,,415.49\n",
      "BowelSpace,ORGAN,1415.11\n",
      "BODY,EXTERNAL,33092.74\n",
      "Liver,ORGAN,1074.83\n",
      "PTV,PTV,714.05\n",
      "SpinalCanal_PRV3,ORGAN,72.05\n",
      "CouchSurface,SUPPORT,2597.63\n",
      "CouchInterior,SUPPORT,15016.65\n",
      "3000Ring,CONTROL,285.60\n",
      "xPTV-ctv,PTV,300.20\n",
      "xcool,CONTROL,5.13\n"
     ]
    }
   ],
   "source": [
    "print(f'StructureID,TYPE,VOLUME')\n",
    "for structure in plan.StructureSet.Structures:\n",
    "    print(f'{structure.Id},{structure.DicomType},{structure.Volume:.2f}')"
   ]
  },
  {
   "cell_type": "code",
   "execution_count": 11,
   "id": "02df1814",
   "metadata": {},
   "outputs": [],
   "source": [
    "ct = plan.StructureSet.Image"
   ]
  },
  {
   "cell_type": "code",
   "execution_count": 12,
   "id": "fc7bbecc",
   "metadata": {},
   "outputs": [
    {
     "data": {
      "text/plain": [
       "VMS.TPS.Common.Model.API.Image"
      ]
     },
     "execution_count": 12,
     "metadata": {},
     "output_type": "execute_result"
    }
   ],
   "source": [
    "type(ct)"
   ]
  },
  {
   "cell_type": "code",
   "execution_count": 65,
   "id": "752db2fd",
   "metadata": {},
   "outputs": [],
   "source": [
    "numpy_ct = ct.np_array_like().transpose()"
   ]
  },
  {
   "cell_type": "code",
   "execution_count": 79,
   "id": "5a15a23e",
   "metadata": {},
   "outputs": [
    {
     "data": {
      "text/plain": [
       "(232, 512, 512)"
      ]
     },
     "execution_count": 79,
     "metadata": {},
     "output_type": "execute_result"
    }
   ],
   "source": [
    "numpy_ct.shape"
   ]
  },
  {
   "cell_type": "code",
   "execution_count": 66,
   "id": "743400af",
   "metadata": {},
   "outputs": [],
   "source": [
    "image_handle = sitk.GetImageFromArray(numpy_ct)"
   ]
  },
  {
   "cell_type": "code",
   "execution_count": 67,
   "id": "750912ca",
   "metadata": {
    "scrolled": true
   },
   "outputs": [],
   "source": [
    "image_handle.SetSpacing((ct.get_XRes(), ct.get_YRes(), ct.get_ZRes()))\n",
    "direction = [ct.get_XDirection()[i] for i in range(3)] + [ct.get_YDirection()[i] for i in range(3)] + [ct.get_ZDirection()[i] for i in range(3)]\n",
    "image_handle.SetDirection(tuple(direction))"
   ]
  },
  {
   "cell_type": "code",
   "execution_count": 68,
   "id": "88b244be",
   "metadata": {},
   "outputs": [],
   "source": [
    "origin = tuple([ct.get_Origin()[i] for i in range(3)])\n",
    "image_handle.SetOrigin(origin)"
   ]
  },
  {
   "cell_type": "code",
   "execution_count": 69,
   "id": "6479501b",
   "metadata": {},
   "outputs": [],
   "source": [
    "sitk.WriteImage(image_handle, r'K:\\Image.nii.gz')"
   ]
  },
  {
   "cell_type": "code",
   "execution_count": 83,
   "id": "998c0c01",
   "metadata": {},
   "outputs": [],
   "source": [
    "mask = plan.StructureSet.StructuresLot('Liver').np_mask_like(plan.StructureSet.Image)"
   ]
  },
  {
   "cell_type": "code",
   "execution_count": 85,
   "id": "e6e86f94",
   "metadata": {},
   "outputs": [],
   "source": [
    "mask = mask.transpose()"
   ]
  },
  {
   "cell_type": "code",
   "execution_count": 86,
   "id": "5ccda2e8",
   "metadata": {},
   "outputs": [],
   "source": [
    "mask_handle = sitk.GetImageFromArray(mask)\n",
    "mask_handle.SetSpacing(image_handle.GetSpacing())\n",
    "mask_handle.SetOrigin(image_handle.GetOrigin())\n",
    "mask_handle.SetDirection(image_handle.GetDirection())"
   ]
  },
  {
   "cell_type": "code",
   "execution_count": 87,
   "id": "571b181b",
   "metadata": {},
   "outputs": [],
   "source": [
    "sitk.WriteImage(mask_handle, r'K:\\Mask.nii.gz')"
   ]
  },
  {
   "cell_type": "code",
   "execution_count": 92,
   "id": "ca2ff2be",
   "metadata": {},
   "outputs": [
    {
     "data": {
      "text/plain": [
       "1074.8336902904346"
      ]
     },
     "execution_count": 92,
     "metadata": {},
     "output_type": "execute_result"
    }
   ],
   "source": [
    "plan.StructureSet.StructuresLot('Liver').Volume # cc"
   ]
  },
  {
   "cell_type": "code",
   "execution_count": null,
   "id": "280e35ae",
   "metadata": {},
   "outputs": [],
   "source": []
  }
 ],
 "metadata": {
  "kernelspec": {
   "display_name": "Python 3 (ipykernel)",
   "language": "python",
   "name": "python3"
  },
  "language_info": {
   "codemirror_mode": {
    "name": "ipython",
    "version": 3
   },
   "file_extension": ".py",
   "mimetype": "text/x-python",
   "name": "python",
   "nbconvert_exporter": "python",
   "pygments_lexer": "ipython3",
   "version": "3.8.8"
  }
 },
 "nbformat": 4,
 "nbformat_minor": 5
}
