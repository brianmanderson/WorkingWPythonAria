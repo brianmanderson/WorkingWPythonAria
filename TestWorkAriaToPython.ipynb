{
 "cells": [
  {
   "cell_type": "code",
   "execution_count": null,
   "id": "aebedb2e",
   "metadata": {},
   "outputs": [],
   "source": [
    "#!pip install git+https://github.com/brianmanderson/PyESAPI"
   ]
  },
  {
   "cell_type": "code",
   "execution_count": 1,
   "id": "104a597e",
   "metadata": {},
   "outputs": [],
   "source": [
    "import pyesapi\n",
    "import atexit\n",
    "import SimpleITK as sitk\n",
    "import os\n",
    "import numpy as np"
   ]
  },
  {
   "cell_type": "code",
   "execution_count": 33,
   "id": "f1dbd7db",
   "metadata": {},
   "outputs": [],
   "source": [
    "def get_direction(varian_image):\n",
    "    x_direction = [varian_image.get_XDirection()[i] for i in range(3)]\n",
    "    y_direction = [varian_image.get_YDirection()[i] for i in range(3)]\n",
    "    z_direction = [varian_image.get_ZDirection()[i] for i in range(3)]\n",
    "    direction = x_direction + y_direction + z_direction\n",
    "    return tuple(direction)\n",
    "\n",
    "def get_spacing(varian_image):\n",
    "    return (varian_image.get_XRes(), varian_image.get_YRes(), varian_image.get_ZRes())\n",
    "\n",
    "def get_origin(potential_image):\n",
    "    return tuple([potential_image.get_Origin()[i] for i in range(3)])"
   ]
  },
  {
   "cell_type": "code",
   "execution_count": 34,
   "id": "82a66056",
   "metadata": {},
   "outputs": [],
   "source": [
    "def create_sitk_Image(varian_image):\n",
    "    image_handle = sitk.GetImageFromArray(varian_image.np_array_like().transpose())\n",
    "    image_handle.SetSpacing(get_spacing(varian_image))\n",
    "    image_handle.SetDirection(get_direction(varian_image))\n",
    "    image_handle.SetOrigin(get_origin(varian_image))\n",
    "    return image_handle"
   ]
  },
  {
   "cell_type": "code",
   "execution_count": 43,
   "id": "5c56de97",
   "metadata": {},
   "outputs": [],
   "source": [
    "def create_sitk_Mask(varian_mask, varian_image):\n",
    "    image_handle = sitk.GetImageFromArray(varian_mask.np_mask_like(varian_image).transpose())\n",
    "    image_handle.SetSpacing(get_spacing(varian_image))\n",
    "    image_handle.SetDirection(get_direction(varian_image))\n",
    "    image_handle.SetOrigin(get_origin(varian_image))\n",
    "    return image_handle"
   ]
  },
  {
   "cell_type": "code",
   "execution_count": 2,
   "id": "f708af4f",
   "metadata": {},
   "outputs": [
    {
     "data": {
      "text/plain": [
       "<bound method 'Dispose'>"
      ]
     },
     "execution_count": 2,
     "metadata": {},
     "output_type": "execute_result"
    }
   ],
   "source": [
    "app = pyesapi.CustomScriptExecutable.CreateApplication('python_demo')\n",
    "atexit.register(app.Dispose)"
   ]
  },
  {
   "cell_type": "code",
   "execution_count": 3,
   "id": "9c8a1633",
   "metadata": {},
   "outputs": [],
   "source": [
    "#for pat_sum in app.PatientSummaries:\n",
    "#    print(pat_sum.Id, pat_sum.LastName, pat_sum.FirstName)"
   ]
  },
  {
   "cell_type": "code",
   "execution_count": 4,
   "id": "515ad8dc",
   "metadata": {},
   "outputs": [],
   "source": [
    "fid = open(os.path.join('.', 'PatientID'))\n",
    "line = fid.readline()\n",
    "line = fid.readline() # Go to the second patient\n",
    "fid.close()\n",
    "MRN = line.strip('\\n')"
   ]
  },
  {
   "cell_type": "code",
   "execution_count": 5,
   "id": "b540eab9",
   "metadata": {},
   "outputs": [],
   "source": [
    "patient = app.OpenPatientById(MRN)"
   ]
  },
  {
   "cell_type": "code",
   "execution_count": 6,
   "id": "8d0e785c",
   "metadata": {},
   "outputs": [],
   "source": [
    "courses = [c.Id for c in patient.Courses]"
   ]
  },
  {
   "cell_type": "code",
   "execution_count": 7,
   "id": "f3e596f8",
   "metadata": {},
   "outputs": [],
   "source": [
    "plan = patient.CoursesLot(courses[1]).PlanSetupsLot(0)"
   ]
  },
  {
   "cell_type": "code",
   "execution_count": 32,
   "id": "c66d4f0a",
   "metadata": {},
   "outputs": [
    {
     "data": {
      "text/plain": [
       "VMS.TPS.Common.Model.API.PlanningItemDose"
      ]
     },
     "execution_count": 32,
     "metadata": {},
     "output_type": "execute_result"
    }
   ],
   "source": [
    "type(plan.Dose)"
   ]
  },
  {
   "cell_type": "code",
   "execution_count": 8,
   "id": "cfbf939a",
   "metadata": {},
   "outputs": [
    {
     "name": "stdout",
     "output_type": "stream",
     "text": [
      "Plan Id: 1 Abdomen\n",
      "Dose Per Fx: 300.0 cGy\n",
      "Number of Fx: 10\n"
     ]
    }
   ],
   "source": [
    "print(f'Plan Id: {plan.Id}')\n",
    "print(f'Dose Per Fx: {plan.PrescribedDosePerFraction}')\n",
    "print(f'Number of Fx: {plan.NumberOfFractions}')"
   ]
  },
  {
   "cell_type": "code",
   "execution_count": 54,
   "id": "220ec938",
   "metadata": {
    "scrolled": true
   },
   "outputs": [
    {
     "data": {
      "text/plain": [
       "False"
      ]
     },
     "execution_count": 54,
     "metadata": {},
     "output_type": "execute_result"
    }
   ],
   "source": [
    "beams[0].Dose == plan.Dose"
   ]
  },
  {
   "cell_type": "code",
   "execution_count": 29,
   "id": "0e1c1ecb",
   "metadata": {},
   "outputs": [
    {
     "data": {
      "text/plain": [
       "2.5"
      ]
     },
     "execution_count": 29,
     "metadata": {},
     "output_type": "execute_result"
    }
   ],
   "source": [
    "beams[0].Dose.get_ZRes()"
   ]
  },
  {
   "cell_type": "code",
   "execution_count": null,
   "id": "be853c70",
   "metadata": {},
   "outputs": [],
   "source": [
    "print(f'StructureID,TYPE,VOLUME')\n",
    "for structure in plan.StructureSet.Structures:\n",
    "    print(f'{structure.Id},{structure.DicomType},{structure.Volume:.2f}')"
   ]
  },
  {
   "cell_type": "code",
   "execution_count": null,
   "id": "02df1814",
   "metadata": {},
   "outputs": [],
   "source": [
    "image_handle = create_sitk_Image(plan.StructureSet.Image)"
   ]
  },
  {
   "cell_type": "code",
   "execution_count": null,
   "id": "763c5d3e",
   "metadata": {},
   "outputs": [],
   "source": [
    "sitk.WriteImage(image_handle, r'K:\\Image.nii.gz')"
   ]
  },
  {
   "cell_type": "code",
   "execution_count": 44,
   "id": "8a4177c8",
   "metadata": {},
   "outputs": [],
   "source": [
    "mask_handle = create_sitk_Mask(plan.StructureSet.StructuresLot('Liver'), plan.StructureSet.Image)"
   ]
  },
  {
   "cell_type": "code",
   "execution_count": null,
   "id": "e4ea2d90",
   "metadata": {},
   "outputs": [],
   "source": [
    "sitk.WriteImage(mask_handle, r'K:\\Mask.nii.gz')"
   ]
  },
  {
   "cell_type": "code",
   "execution_count": 45,
   "id": "4db5cd6e",
   "metadata": {},
   "outputs": [],
   "source": [
    "dose_handle = create_sitk_Image(plan.Dose)"
   ]
  },
  {
   "cell_type": "code",
   "execution_count": 46,
   "id": "44e0d703",
   "metadata": {},
   "outputs": [],
   "source": [
    "sitk.WriteImage(dose_handle, r'K:\\Dose.nii.gz')"
   ]
  },
  {
   "cell_type": "code",
   "execution_count": 49,
   "id": "11a4c9ba",
   "metadata": {},
   "outputs": [],
   "source": [
    "beam_handle = create_sitk_Image(beams[0].Dose)\n",
    "sitk.WriteImage(dose_handle, r'K:\\{}.nii.gz'.format(beams[0].Id))"
   ]
  },
  {
   "cell_type": "code",
   "execution_count": null,
   "id": "25d01536",
   "metadata": {},
   "outputs": [],
   "source": [
    "plan.StructureSet.StructuresLot('Liver').Volume # cc"
   ]
  },
  {
   "cell_type": "code",
   "execution_count": null,
   "id": "c4d97c83",
   "metadata": {},
   "outputs": [],
   "source": []
  }
 ],
 "metadata": {
  "kernelspec": {
   "display_name": "Python 3 (ipykernel)",
   "language": "python",
   "name": "python3"
  },
  "language_info": {
   "codemirror_mode": {
    "name": "ipython",
    "version": 3
   },
   "file_extension": ".py",
   "mimetype": "text/x-python",
   "name": "python",
   "nbconvert_exporter": "python",
   "pygments_lexer": "ipython3",
   "version": "3.8.8"
  }
 },
 "nbformat": 4,
 "nbformat_minor": 5
}
