{
 "cells": [
  {
   "cell_type": "code",
   "execution_count": null,
   "id": "f403e803",
   "metadata": {},
   "outputs": [],
   "source": [
    "import pyesapi\n",
    "import atexit\n",
    "import time\n",
    "import os\n",
    "app = pyesapi.CustomScriptExecutable.CreateApplication('python_demo')\n",
    "atexit.register(app.Dispose);"
   ]
  },
  {
   "cell_type": "code",
   "execution_count": null,
   "id": "f525cdea",
   "metadata": {},
   "outputs": [],
   "source": [
    "import pandas as pd\n",
    "\n",
    "\n",
    "def d_at_v(plan,structure,volume):\n",
    "    _dose=plan.GetDoseAtVolume(structure,volume,\n",
    "                               pyesapi.VolumePresentation.Relative,\n",
    "                               pyesapi.DoseValuePresentation.Absolute)\n",
    "    return _dose.Dose\n",
    "\n",
    "columns = (\n",
    "    'PatientId',\n",
    "    'PlanId',\n",
    "    'StructureId',\n",
    "    'DicomType',\n",
    "    'Volume(cc)',\n",
    "    'IsHighRes',\n",
    "    'D95%(Gy)',\n",
    "    'D25%(Gy)',\n",
    "    'D50%(Gy)'\n",
    ")\n",
    "\n",
    "def get_structure_and_dose_info(plan, get_volumes=True, get_dose=True):\n",
    "    returning_list = []\n",
    "    for s in plan.StructureSet.Structures:\n",
    "        structure_list = [\n",
    "        plan.StructureSet.Patient.Id,\n",
    "        plan.Id,\n",
    "        s.Id,\n",
    "        s.DicomType,\n",
    "        ]\n",
    "        if get_volumes:\n",
    "            structure_list += [\n",
    "                s.Volume,\n",
    "                s.IsHighResolution\n",
    "            ]\n",
    "        else:\n",
    "            structure_list += [\n",
    "                'NA',\n",
    "                'NA'\n",
    "            ]\n",
    "        if get_dose:\n",
    "            structure_list += [\n",
    "                d_at_v(plan,s,95),\n",
    "                d_at_v(plan,s,25),\n",
    "                d_at_v(plan,s,50)]\n",
    "        else:\n",
    "            structure_list += [\n",
    "                'NA', 'NA', 'NA'\n",
    "            ]\n",
    "        returning_list.append(tuple(structure_list))\n",
    "    return returning_list"
   ]
  },
  {
   "cell_type": "code",
   "execution_count": null,
   "id": "86742388",
   "metadata": {},
   "outputs": [],
   "source": [
    "fid = open(os.path.join('.', 'PatientID'))\n",
    "line = fid.readline()\n",
    "fid.close()\n",
    "MRN = line.strip('\\n')\n",
    "app.ClosePatient()\n",
    "patient = app.OpenPatientById(MRN)\n",
    "plan = patient.CoursesLot(0).PlanSetupsLot(0)"
   ]
  },
  {
   "cell_type": "code",
   "execution_count": null,
   "id": "e0eb9c19",
   "metadata": {},
   "outputs": [],
   "source": [
    "plans = [i for i in patient.CoursesLot(0).PlanSetups]"
   ]
  },
  {
   "cell_type": "code",
   "execution_count": null,
   "id": "a7df8773",
   "metadata": {},
   "outputs": [],
   "source": [
    "[i.StructureSet for i in plans]"
   ]
  },
  {
   "cell_type": "code",
   "execution_count": null,
   "id": "f5040a20",
   "metadata": {},
   "outputs": [],
   "source": [
    "def returndataframe_list():\n",
    "    dataframe_list = []\n",
    "    patients_checked = []\n",
    "    get_volumes = False\n",
    "    global_get_dose = False\n",
    "    i = 0\n",
    "    for pat_sum in app.PatientSummaries:\n",
    "        time.sleep(0.0)\n",
    "        i += 1\n",
    "        if i > 100:\n",
    "            break\n",
    "        MRN = pat_sum.Id\n",
    "        print('MRN: {}'.format(MRN))\n",
    "        if MRN in patients_checked:\n",
    "            continue\n",
    "        patients_checked.append(MRN)\n",
    "        app.ClosePatient()\n",
    "        patient = app.OpenPatientById(MRN)\n",
    "        for course in patient.Courses:\n",
    "            time.sleep(0.0)\n",
    "            print('Course: {}'.format(course.Id))\n",
    "            if course.Id.find('QA') != -1 or course.Id.find('use') != -1:\n",
    "                continue\n",
    "            print(plans)\n",
    "            for plan in course.PlanSetups:\n",
    "                time.sleep(0.0)\n",
    "                print(i)\n",
    "                print('Plan: {}'.format(plan.Id))\n",
    "                if plan.StructureSet is None: # No structures present, move on\n",
    "                    continue\n",
    "                if global_get_dose and plan.Dose is not None:\n",
    "                    get_dose = True\n",
    "                else:\n",
    "                    get_dose = False\n",
    "                dataframe_list.append(pd.DataFrame(get_structure_and_dose_info(plan, get_volumes=get_volumes, get_dose=get_dose),\n",
    "                                                   columns=columns))\n",
    "    return dataframe_list\n",
    "dataframe_list = returndataframe_list()"
   ]
  },
  {
   "cell_type": "code",
   "execution_count": null,
   "id": "ee50b5b6",
   "metadata": {
    "scrolled": true
   },
   "outputs": [],
   "source": [
    "structure_dataframe = pd.concat(dataframe_list,ignore_index=True)\n",
    "structure_dataframe"
   ]
  },
  {
   "cell_type": "code",
   "execution_count": null,
   "id": "cd144a9a",
   "metadata": {},
   "outputs": [],
   "source": [
    "structure_dataframe.to_excel(os.path.join('.', 'StructureData.xlsx'), index=False)"
   ]
  },
  {
   "cell_type": "code",
   "execution_count": null,
   "id": "8c8af8e3",
   "metadata": {},
   "outputs": [],
   "source": [
    "# if you insist\n",
    "with open('./StructureData.csv','w') as f:\n",
    "    f.write(structure_dataframe.to_csv(sep=','))"
   ]
  },
  {
   "cell_type": "code",
   "execution_count": null,
   "id": "8bb9e54b",
   "metadata": {
    "scrolled": true
   },
   "outputs": [],
   "source": [
    "i = 0\n",
    "for pat_sum in app.PatientSummaries:\n",
    "    print(i)\n",
    "    i += 1\n",
    "    if i > 200:\n",
    "        break\n",
    "    MRN = pat_sum.Id\n",
    "    if MRN in patients_checked:\n",
    "        continue\n",
    "    patients_checked.append(MRN)\n",
    "    app.ClosePatient()\n",
    "    patient = app.OpenPatientById(MRN)\n",
    "    courses = patient.Courses\n",
    "    for course in courses:\n",
    "        if course.Id.find('QA') == -1:\n",
    "            plans = [i for i in course.PlanSetups]\n",
    "            for plan in plans:\n",
    "                if plan.StructureSet is None: # No structures present, move on\n",
    "                    continue\n",
    "                for structure in plan.StructureSet.Structures:\n",
    "                    structure_name = structure.Id\n",
    "                    if structure_name not in structures:\n",
    "                        structures[structure_name] = {'PatientID': [], 'Course': [], 'Plan': []}\n",
    "                    structures[structure_name]['PatientID'].append(MRN)\n",
    "                    structures[structure_name]['Course'].append(course.Id)\n",
    "                    structures[structure_name]['Plan'].append(plan.Id)"
   ]
  },
  {
   "cell_type": "code",
   "execution_count": null,
   "id": "78876972",
   "metadata": {},
   "outputs": [],
   "source": [
    "structures['Lung RT']"
   ]
  },
  {
   "cell_type": "code",
   "execution_count": null,
   "id": "5638b96b",
   "metadata": {},
   "outputs": [],
   "source": [
    "list(structures.keys())"
   ]
  },
  {
   "cell_type": "code",
   "execution_count": null,
   "id": "ad4b0719",
   "metadata": {},
   "outputs": [],
   "source": [
    "structures.keys()"
   ]
  },
  {
   "cell_type": "code",
   "execution_count": null,
   "id": "b85ae1ae",
   "metadata": {},
   "outputs": [],
   "source": [
    "patient.CoursesLot('C1').PlanSetupsLot(0)"
   ]
  },
  {
   "cell_type": "code",
   "execution_count": null,
   "id": "9891c57e",
   "metadata": {},
   "outputs": [],
   "source": []
  }
 ],
 "metadata": {
  "kernelspec": {
   "display_name": "Python 3 (ipykernel)",
   "language": "python",
   "name": "python3"
  },
  "language_info": {
   "codemirror_mode": {
    "name": "ipython",
    "version": 3
   },
   "file_extension": ".py",
   "mimetype": "text/x-python",
   "name": "python",
   "nbconvert_exporter": "python",
   "pygments_lexer": "ipython3",
   "version": "3.8.8"
  }
 },
 "nbformat": 4,
 "nbformat_minor": 5
}
