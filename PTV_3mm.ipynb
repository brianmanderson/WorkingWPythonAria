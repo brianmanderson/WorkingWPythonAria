{
 "cells": [
  {
   "cell_type": "code",
   "execution_count": null,
   "id": "e148b954",
   "metadata": {},
   "outputs": [],
   "source": [
    "import pyesapi\n",
    "import atexit\n",
    "import SimpleITK as sitk\n",
    "import os\n",
    "import numpy as np"
   ]
  },
  {
   "cell_type": "code",
   "execution_count": null,
   "id": "791dbfb9",
   "metadata": {},
   "outputs": [],
   "source": [
    "app = pyesapi.CustomScriptExecutable.CreateApplication('python_demo')\n",
    "atexit.register(app.Dispose)"
   ]
  },
  {
   "cell_type": "code",
   "execution_count": null,
   "id": "b638d59b",
   "metadata": {},
   "outputs": [],
   "source": [
    "fid = open(os.path.join('.', 'PatientID'))\n",
    "line = fid.readline()\n",
    "line = fid.readline() # Go to the second patient\n",
    "fid.close()\n",
    "MRN = line.strip('\\n')"
   ]
  },
  {
   "cell_type": "code",
   "execution_count": null,
   "id": "1959dcad",
   "metadata": {},
   "outputs": [],
   "source": [
    "patient = app.OpenPatientById(MRN)"
   ]
  },
  {
   "cell_type": "code",
   "execution_count": null,
   "id": "6200c6c7",
   "metadata": {},
   "outputs": [],
   "source": [
    "patient.BeginModifications()"
   ]
  },
  {
   "cell_type": "code",
   "execution_count": null,
   "id": "17b34fb2",
   "metadata": {},
   "outputs": [],
   "source": [
    "courses = [c.Id for c in patient.Courses]"
   ]
  },
  {
   "cell_type": "code",
   "execution_count": null,
   "id": "0aa102b6",
   "metadata": {},
   "outputs": [],
   "source": [
    "plan = patient.CoursesLot(courses[1]).PlanSetupsLot(0)"
   ]
  },
  {
   "cell_type": "code",
   "execution_count": null,
   "id": "cac0434c",
   "metadata": {},
   "outputs": [],
   "source": [
    "ss = plan.StructureSet"
   ]
  },
  {
   "cell_type": "code",
   "execution_count": null,
   "id": "82add42c",
   "metadata": {},
   "outputs": [],
   "source": [
    "structures = [i for i in ss.Structures]"
   ]
  },
  {
   "cell_type": "code",
   "execution_count": null,
   "id": "9a1d0e3b",
   "metadata": {},
   "outputs": [],
   "source": [
    "structures[9].Id"
   ]
  },
  {
   "cell_type": "code",
   "execution_count": null,
   "id": "1687eaf4",
   "metadata": {},
   "outputs": [],
   "source": [
    "segment = structures[9].SegmentVolume"
   ]
  },
  {
   "cell_type": "code",
   "execution_count": null,
   "id": "16517cdc",
   "metadata": {},
   "outputs": [],
   "source": [
    "segment"
   ]
  },
  {
   "cell_type": "code",
   "execution_count": null,
   "id": "0c1c92cd",
   "metadata": {},
   "outputs": [],
   "source": [
    "ss.AddStructure(\"CONTROL\", \"TEST\")"
   ]
  },
  {
   "cell_type": "code",
   "execution_count": null,
   "id": "dcb5cb4d",
   "metadata": {},
   "outputs": [],
   "source": []
  }
 ],
 "metadata": {
  "kernelspec": {
   "display_name": "Python 3 (ipykernel)",
   "language": "python",
   "name": "python3"
  },
  "language_info": {
   "codemirror_mode": {
    "name": "ipython",
    "version": 3
   },
   "file_extension": ".py",
   "mimetype": "text/x-python",
   "name": "python",
   "nbconvert_exporter": "python",
   "pygments_lexer": "ipython3",
   "version": "3.8.8"
  }
 },
 "nbformat": 4,
 "nbformat_minor": 5
}
